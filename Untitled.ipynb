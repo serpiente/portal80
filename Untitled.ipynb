{
 "cells": [
  {
   "cell_type": "code",
   "execution_count": 25,
   "id": "f5233ec8-b76c-4e6e-854c-a2010a1283fb",
   "metadata": {},
   "outputs": [],
   "source": [
    "import pandas as pd"
   ]
  },
  {
   "cell_type": "code",
   "execution_count": 26,
   "id": "60ff1394-eec5-43da-887a-5a0a487b8f55",
   "metadata": {},
   "outputs": [],
   "source": [
    "df = pd.read_csv('./raw_data.csv')"
   ]
  },
  {
   "cell_type": "code",
   "execution_count": 27,
   "id": "2e6f6714-5a03-4aaa-a6d2-e7dd35134765",
   "metadata": {},
   "outputs": [],
   "source": [
    "df.columns = df.columns = [\"fecha escritura\", \"direccion\", \"precio escritura\", \"area\", \"precio metro\"]"
   ]
  },
  {
   "cell_type": "code",
   "execution_count": 28,
   "id": "e2f08461-aefb-45ca-9bda-2ad92ad62d9b",
   "metadata": {},
   "outputs": [],
   "source": [
    "df['fecha escritura'] = pd.to_datetime(df['fecha escritura'])\n",
    "df['fecha escritura'] = df['fecha escritura'].dt.date"
   ]
  },
  {
   "cell_type": "code",
   "execution_count": 29,
   "id": "e6465f8c-832d-4cc5-8521-86a196c40fd2",
   "metadata": {},
   "outputs": [],
   "source": [
    "df[['piso', 'local']] = df['direccion'].str.extract(r'NV (\\d+) LC (\\d+)')"
   ]
  },
  {
   "cell_type": "code",
   "execution_count": 30,
   "id": "8a6bd50f-9fea-4a26-a798-3b3432f551d9",
   "metadata": {},
   "outputs": [],
   "source": [
    "df = df.drop(columns=\"direccion\")"
   ]
  },
  {
   "cell_type": "code",
   "execution_count": 31,
   "id": "35307efe-cfa3-477e-bb90-3d94a531da8f",
   "metadata": {},
   "outputs": [],
   "source": [
    "df[\"precio metro\"] = df[\"precio metro\"].astype(int)"
   ]
  },
  {
   "cell_type": "code",
   "execution_count": 33,
   "id": "d9fdb66a-de68-419d-bcb4-cb9fbf6706d1",
   "metadata": {},
   "outputs": [],
   "source": [
    "df = df.sort_values(by=\"fecha escritura\", ascending=False)"
   ]
  },
  {
   "cell_type": "code",
   "execution_count": 34,
   "id": "4d959b88-8d2b-48e7-9f29-1f5c280d037a",
   "metadata": {},
   "outputs": [],
   "source": [
    "df.to_csv(\"enriched.csv\", index=False)"
   ]
  },
  {
   "cell_type": "code",
   "execution_count": null,
   "id": "43e4e4d2-be22-4d4d-8fd7-a6620e0ec0af",
   "metadata": {},
   "outputs": [],
   "source": []
  }
 ],
 "metadata": {
  "kernelspec": {
   "display_name": "Python 3 (ipykernel)",
   "language": "python",
   "name": "python3"
  },
  "language_info": {
   "codemirror_mode": {
    "name": "ipython",
    "version": 3
   },
   "file_extension": ".py",
   "mimetype": "text/x-python",
   "name": "python",
   "nbconvert_exporter": "python",
   "pygments_lexer": "ipython3",
   "version": "3.11.7"
  }
 },
 "nbformat": 4,
 "nbformat_minor": 5
}
